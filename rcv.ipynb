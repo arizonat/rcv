{
 "cells": [
  {
   "cell_type": "code",
   "execution_count": 213,
   "metadata": {},
   "outputs": [],
   "source": [
    "# Get libraries\n",
    "import matplotlib.pyplot as plt\n",
    "import numpy as np\n",
    "import pandas as pd\n",
    "import re"
   ]
  },
  {
   "cell_type": "code",
   "execution_count": 209,
   "metadata": {},
   "outputs": [
    {
     "name": "stdout",
     "output_type": "stream",
     "text": [
      "Number of voters:  19\n",
      "Number of candidates:  9\n",
      "Required votes to win:  10\n",
      "    Argonauts  Sea dragons  Axolotls  Coelacanths  Pteropods  Tardigrades  \\\n",
      "0           2            4         1            3          6            7   \n",
      "1           2            9         8            1          5            7   \n",
      "2           2            1         6            3          7            4   \n",
      "3           1            8         6            5          2            3   \n",
      "4           1            6         9            2          4            7   \n",
      "5           7            4         9            6          2            8   \n",
      "6           3            4         8            1          2            6   \n",
      "7           5            4         2            7          3            6   \n",
      "8           1            2         9            5          4            8   \n",
      "9           7            6         2            3          9            5   \n",
      "10          2            8         3            5          6            4   \n",
      "11          2            4         9            8          5            6   \n",
      "12          1            4         3            6          2            5   \n",
      "13          1            3         8            5          2            4   \n",
      "14          7            6         8            5          1            4   \n",
      "15          1            9         4            3          6            2   \n",
      "16          3            6         7            2          4            1   \n",
      "17          6            4         3            2          5            7   \n",
      "18          3            7         2            8          5            4   \n",
      "\n",
      "    Ctenophores  Dinoflagellates  Antarctic Intermediate Water (AAIW)  \n",
      "0             5                8                                    9  \n",
      "1             3                6                                    4  \n",
      "2             5                8                                    9  \n",
      "3             7                4                                    9  \n",
      "4             3                5                                    8  \n",
      "5             1                5                                    3  \n",
      "6             5                7                                    9  \n",
      "7             1                8                                    9  \n",
      "8             7                3                                    6  \n",
      "9             8                4                                    1  \n",
      "10            7                9                                    1  \n",
      "11            3                1                                    7  \n",
      "12            8                7                                    9  \n",
      "13            6                7                                    9  \n",
      "14            3                2                                    9  \n",
      "15            7                5                                    8  \n",
      "16            5                8                                    9  \n",
      "17            9                8                                    1  \n",
      "18            6                9                                    1  \n"
     ]
    }
   ],
   "source": [
    "# Parse data file and post-process\n",
    "filename = \"data/jp_2020_name_vote.csv\"\n",
    "\n",
    "df = pd.read_csv(filename)\n",
    "\n",
    "df.drop(columns=df.columns[11],axis=1,inplace=True)\n",
    "df.drop(columns=df.columns[0:2],axis=1,inplace=True)\n",
    "col_names = [(orig,re.search(\"\\[.*\\]\",orig).group(0).strip(\"[]\")) for orig in df.columns]\n",
    "rename_cols = dict()\n",
    "rename_cols.update(col_names)\n",
    "df.rename(columns=rename_cols, inplace=True)\n",
    "df = df.applymap(lambda x: int(x[-1]))\n",
    "\n",
    "ranked_votes = df.to_numpy()\n",
    "num_voters = len(df.index)\n",
    "num_candidates = len(df.columns)\n",
    "required_majority = int(np.ceil(num_voters/2))\n",
    "remaining_contenders = df.columns\n",
    "contenders = remaining_contenders\n",
    "\n",
    "print(\"Number of voters: \", num_voters)\n",
    "print(\"Number of candidates: \", num_candidates)\n",
    "print(\"Required votes to win: \", required_majority)\n",
    "print(df)"
   ]
  },
  {
   "cell_type": "code",
   "execution_count": 210,
   "metadata": {},
   "outputs": [],
   "source": [
    "# Helper functions\n",
    "def get_weakest_candidate(df):\n",
    "    possible_weakest = df.columns\n",
    "    \n",
    "    for rank in range(1,len(df.columns)+1):\n",
    "        possible_weakest = possible_weakest[(df[possible_weakest]==rank).sum()==(df[possible_weakest]==rank).sum().min()]\n",
    "        if len(possible_weakest) == 1:\n",
    "            break\n",
    "    if len(possible_weakest) != 1:\n",
    "        print(\"Something went wrong: there are \", len(possible_weakest), \" weakest candidates.\")\n",
    "    return possible_weakest\n",
    "\n",
    "def redistribute_votes(df, weakest_candidate):\n",
    "    df_updated = df.drop(weakest_candidate[0], axis=1)\n",
    "    df_updated[df_updated.apply(lambda col: col > df[weakest_candidate[0]])] -= 1\n",
    "    return df_updated"
   ]
  },
  {
   "cell_type": "code",
   "execution_count": 221,
   "metadata": {},
   "outputs": [
    {
     "name": "stdout",
     "output_type": "stream",
     "text": [
      "Round:  0\n",
      "Weakest candidate:  Dinoflagellates\n",
      "Round:  1\n",
      "Weakest candidate:  Tardigrades\n",
      "Round:  2\n",
      "Weakest candidate:  Sea dragons\n",
      "Round:  3\n",
      "Weakest candidate:  Axolotls\n",
      "Round:  4\n",
      "Weakest candidate:  Pteropods\n",
      "Round:  5\n",
      "Weakest candidate:  Ctenophores\n",
      "Round:  6\n",
      "Weakest candidate:  Coelacanths\n",
      "Final showdown: \n",
      " Argonauts                              14\n",
      "Antarctic Intermediate Water (AAIW)     5\n",
      "dtype: int64\n"
     ]
    }
   ],
   "source": [
    "# Do Run-off voting\n",
    "df_running = df.copy()\n",
    "\n",
    "for round in range(num_candidates):\n",
    "    print(\"Round: \", round)\n",
    "    #print(\"Votes: \", df_running)\n",
    "    weakest_candidate = get_weakest_candidate(df_running)\n",
    "    print(\"Weakest candidate: \", weakest_candidate[0])\n",
    "    df_running = redistribute_votes(df_running, weakest_candidate)\n",
    "    if ((df_running==1).sum() > required_majority).any():\n",
    "        break\n",
    "\n",
    "print(\"Final showdown: \\n\", (df_running==1).sum())\n"
   ]
  }
 ],
 "metadata": {
  "kernelspec": {
   "display_name": "Python 3",
   "language": "python",
   "name": "python3"
  },
  "language_info": {
   "codemirror_mode": {
    "name": "ipython",
    "version": 3
   },
   "file_extension": ".py",
   "mimetype": "text/x-python",
   "name": "python",
   "nbconvert_exporter": "python",
   "pygments_lexer": "ipython3",
   "version": "3.7.6"
  }
 },
 "nbformat": 4,
 "nbformat_minor": 4
}
